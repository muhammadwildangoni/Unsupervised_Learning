{
  "nbformat": 4,
  "nbformat_minor": 0,
  "metadata": {
    "colab": {
      "name": "MachineLearning_Kmeans.ipynb",
      "provenance": [],
      "collapsed_sections": []
    },
    "kernelspec": {
      "name": "python3",
      "display_name": "Python 3"
    },
    "language_info": {
      "name": "python"
    }
  },
  "cells": [
    {
      "cell_type": "code",
      "execution_count": null,
      "metadata": {
        "id": "crDoih4KSyFX"
      },
      "outputs": [],
      "source": [
        "#Import library yang akan digunakan\n",
        "import matplotlib.pyplot as plt\n",
        "import numpy as np\n",
        "import pandas as pd\n",
        "from sklearn.cluster import KMeans\n",
        "from sklearn.preprocessing import MinMaxScaler"
      ]
    },
    {
      "cell_type": "code",
      "source": [
        "#Menyiapkan Dataset\n",
        "dataset = pd.read_excel('cluster.xlsx','Sheet3')\n",
        "dataset.keys()"
      ],
      "metadata": {
        "colab": {
          "base_uri": "https://localhost:8080/"
        },
        "id": "kGn81x-2Te51",
        "outputId": "5f4c8f20-5e45-4738-cafc-3fca8d51a63a"
      },
      "execution_count": null,
      "outputs": [
        {
          "output_type": "execute_result",
          "data": {
            "text/plain": [
              "Index(['Culture Adventurous', 'realistic and mindful', 'social',\n",
              "       'foodie and local explorer', 'Aspiring Indulgers', 'Shopaholic',\n",
              "       'Attention Seeker', 'Sport Adventurous'],\n",
              "      dtype='object')"
            ]
          },
          "metadata": {},
          "execution_count": 28
        }
      ]
    },
    {
      "cell_type": "code",
      "source": [
        "#Menampilkan dataset\n",
        "df = pd.DataFrame(dataset)\n",
        "df"
      ],
      "metadata": {
        "colab": {
          "base_uri": "https://localhost:8080/",
          "height": 206
        },
        "id": "RGroTKH-UfuK",
        "outputId": "e58c8ca5-021d-40ed-e781-c325493070e6"
      },
      "execution_count": null,
      "outputs": [
        {
          "output_type": "execute_result",
          "data": {
            "text/plain": [
              "   Culture Adventurous  realistic and mindful  social  \\\n",
              "0                0.699                  0.576   0.762   \n",
              "1                0.752                  0.402  -0.421   \n",
              "2                0.483                  0.581   0.605   \n",
              "3                0.650                  0.697   0.846   \n",
              "4                0.646                  0.802   0.632   \n",
              "\n",
              "   foodie and local explorer  Aspiring Indulgers  Shopaholic  \\\n",
              "0                      0.510               0.628       0.746   \n",
              "1                      0.682               0.634       0.761   \n",
              "2                      0.567               0.596       0.000   \n",
              "3                      0.703               0.652       0.000   \n",
              "4                      0.517               0.000       0.000   \n",
              "\n",
              "   Attention Seeker  Sport Adventurous  \n",
              "0             0.597              0.752  \n",
              "1             0.761              0.491  \n",
              "2             0.000              0.000  \n",
              "3             0.000              0.000  \n",
              "4             0.000              0.000  "
            ],
            "text/html": [
              "\n",
              "  <div id=\"df-8248dcb4-0dbf-4d4c-8818-c9d13762914f\">\n",
              "    <div class=\"colab-df-container\">\n",
              "      <div>\n",
              "<style scoped>\n",
              "    .dataframe tbody tr th:only-of-type {\n",
              "        vertical-align: middle;\n",
              "    }\n",
              "\n",
              "    .dataframe tbody tr th {\n",
              "        vertical-align: top;\n",
              "    }\n",
              "\n",
              "    .dataframe thead th {\n",
              "        text-align: right;\n",
              "    }\n",
              "</style>\n",
              "<table border=\"1\" class=\"dataframe\">\n",
              "  <thead>\n",
              "    <tr style=\"text-align: right;\">\n",
              "      <th></th>\n",
              "      <th>Culture Adventurous</th>\n",
              "      <th>realistic and mindful</th>\n",
              "      <th>social</th>\n",
              "      <th>foodie and local explorer</th>\n",
              "      <th>Aspiring Indulgers</th>\n",
              "      <th>Shopaholic</th>\n",
              "      <th>Attention Seeker</th>\n",
              "      <th>Sport Adventurous</th>\n",
              "    </tr>\n",
              "  </thead>\n",
              "  <tbody>\n",
              "    <tr>\n",
              "      <th>0</th>\n",
              "      <td>0.699</td>\n",
              "      <td>0.576</td>\n",
              "      <td>0.762</td>\n",
              "      <td>0.510</td>\n",
              "      <td>0.628</td>\n",
              "      <td>0.746</td>\n",
              "      <td>0.597</td>\n",
              "      <td>0.752</td>\n",
              "    </tr>\n",
              "    <tr>\n",
              "      <th>1</th>\n",
              "      <td>0.752</td>\n",
              "      <td>0.402</td>\n",
              "      <td>-0.421</td>\n",
              "      <td>0.682</td>\n",
              "      <td>0.634</td>\n",
              "      <td>0.761</td>\n",
              "      <td>0.761</td>\n",
              "      <td>0.491</td>\n",
              "    </tr>\n",
              "    <tr>\n",
              "      <th>2</th>\n",
              "      <td>0.483</td>\n",
              "      <td>0.581</td>\n",
              "      <td>0.605</td>\n",
              "      <td>0.567</td>\n",
              "      <td>0.596</td>\n",
              "      <td>0.000</td>\n",
              "      <td>0.000</td>\n",
              "      <td>0.000</td>\n",
              "    </tr>\n",
              "    <tr>\n",
              "      <th>3</th>\n",
              "      <td>0.650</td>\n",
              "      <td>0.697</td>\n",
              "      <td>0.846</td>\n",
              "      <td>0.703</td>\n",
              "      <td>0.652</td>\n",
              "      <td>0.000</td>\n",
              "      <td>0.000</td>\n",
              "      <td>0.000</td>\n",
              "    </tr>\n",
              "    <tr>\n",
              "      <th>4</th>\n",
              "      <td>0.646</td>\n",
              "      <td>0.802</td>\n",
              "      <td>0.632</td>\n",
              "      <td>0.517</td>\n",
              "      <td>0.000</td>\n",
              "      <td>0.000</td>\n",
              "      <td>0.000</td>\n",
              "      <td>0.000</td>\n",
              "    </tr>\n",
              "  </tbody>\n",
              "</table>\n",
              "</div>\n",
              "      <button class=\"colab-df-convert\" onclick=\"convertToInteractive('df-8248dcb4-0dbf-4d4c-8818-c9d13762914f')\"\n",
              "              title=\"Convert this dataframe to an interactive table.\"\n",
              "              style=\"display:none;\">\n",
              "        \n",
              "  <svg xmlns=\"http://www.w3.org/2000/svg\" height=\"24px\"viewBox=\"0 0 24 24\"\n",
              "       width=\"24px\">\n",
              "    <path d=\"M0 0h24v24H0V0z\" fill=\"none\"/>\n",
              "    <path d=\"M18.56 5.44l.94 2.06.94-2.06 2.06-.94-2.06-.94-.94-2.06-.94 2.06-2.06.94zm-11 1L8.5 8.5l.94-2.06 2.06-.94-2.06-.94L8.5 2.5l-.94 2.06-2.06.94zm10 10l.94 2.06.94-2.06 2.06-.94-2.06-.94-.94-2.06-.94 2.06-2.06.94z\"/><path d=\"M17.41 7.96l-1.37-1.37c-.4-.4-.92-.59-1.43-.59-.52 0-1.04.2-1.43.59L10.3 9.45l-7.72 7.72c-.78.78-.78 2.05 0 2.83L4 21.41c.39.39.9.59 1.41.59.51 0 1.02-.2 1.41-.59l7.78-7.78 2.81-2.81c.8-.78.8-2.07 0-2.86zM5.41 20L4 18.59l7.72-7.72 1.47 1.35L5.41 20z\"/>\n",
              "  </svg>\n",
              "      </button>\n",
              "      \n",
              "  <style>\n",
              "    .colab-df-container {\n",
              "      display:flex;\n",
              "      flex-wrap:wrap;\n",
              "      gap: 12px;\n",
              "    }\n",
              "\n",
              "    .colab-df-convert {\n",
              "      background-color: #E8F0FE;\n",
              "      border: none;\n",
              "      border-radius: 50%;\n",
              "      cursor: pointer;\n",
              "      display: none;\n",
              "      fill: #1967D2;\n",
              "      height: 32px;\n",
              "      padding: 0 0 0 0;\n",
              "      width: 32px;\n",
              "    }\n",
              "\n",
              "    .colab-df-convert:hover {\n",
              "      background-color: #E2EBFA;\n",
              "      box-shadow: 0px 1px 2px rgba(60, 64, 67, 0.3), 0px 1px 3px 1px rgba(60, 64, 67, 0.15);\n",
              "      fill: #174EA6;\n",
              "    }\n",
              "\n",
              "    [theme=dark] .colab-df-convert {\n",
              "      background-color: #3B4455;\n",
              "      fill: #D2E3FC;\n",
              "    }\n",
              "\n",
              "    [theme=dark] .colab-df-convert:hover {\n",
              "      background-color: #434B5C;\n",
              "      box-shadow: 0px 1px 3px 1px rgba(0, 0, 0, 0.15);\n",
              "      filter: drop-shadow(0px 1px 2px rgba(0, 0, 0, 0.3));\n",
              "      fill: #FFFFFF;\n",
              "    }\n",
              "  </style>\n",
              "\n",
              "      <script>\n",
              "        const buttonEl =\n",
              "          document.querySelector('#df-8248dcb4-0dbf-4d4c-8818-c9d13762914f button.colab-df-convert');\n",
              "        buttonEl.style.display =\n",
              "          google.colab.kernel.accessAllowed ? 'block' : 'none';\n",
              "\n",
              "        async function convertToInteractive(key) {\n",
              "          const element = document.querySelector('#df-8248dcb4-0dbf-4d4c-8818-c9d13762914f');\n",
              "          const dataTable =\n",
              "            await google.colab.kernel.invokeFunction('convertToInteractive',\n",
              "                                                     [key], {});\n",
              "          if (!dataTable) return;\n",
              "\n",
              "          const docLinkHtml = 'Like what you see? Visit the ' +\n",
              "            '<a target=\"_blank\" href=https://colab.research.google.com/notebooks/data_table.ipynb>data table notebook</a>'\n",
              "            + ' to learn more about interactive tables.';\n",
              "          element.innerHTML = '';\n",
              "          dataTable['output_type'] = 'display_data';\n",
              "          await google.colab.output.renderOutput(dataTable, element);\n",
              "          const docLink = document.createElement('div');\n",
              "          docLink.innerHTML = docLinkHtml;\n",
              "          element.appendChild(docLink);\n",
              "        }\n",
              "      </script>\n",
              "    </div>\n",
              "  </div>\n",
              "  "
            ]
          },
          "metadata": {},
          "execution_count": 29
        }
      ]
    },
    {
      "cell_type": "code",
      "source": [
        "# Konversi ke data array\n",
        "x = np.asarray(dataset)\n",
        "print(x)"
      ],
      "metadata": {
        "colab": {
          "base_uri": "https://localhost:8080/"
        },
        "id": "jrXCwAPdVDVa",
        "outputId": "bc3a0cbc-8092-4709-b354-f9f2195c7a5c"
      },
      "execution_count": null,
      "outputs": [
        {
          "output_type": "stream",
          "name": "stdout",
          "text": [
            "[[ 0.699  0.576  0.762  0.51   0.628  0.746  0.597  0.752]\n",
            " [ 0.752  0.402 -0.421  0.682  0.634  0.761  0.761  0.491]\n",
            " [ 0.483  0.581  0.605  0.567  0.596  0.     0.     0.   ]\n",
            " [ 0.65   0.697  0.846  0.703  0.652  0.     0.     0.   ]\n",
            " [ 0.646  0.802  0.632  0.517  0.     0.     0.     0.   ]]\n"
          ]
        }
      ]
    },
    {
      "cell_type": "markdown",
      "source": [
        "Metode Elbow adalah \n",
        "untuk menghasilkan informasi dengan \n",
        "cara melihat perbandingan hasil \n",
        "antara jumlah cluster yang akan \n",
        "membentuk suatu titik terakhir, \n",
        "cluster nilai akan digunakan sebagai \n",
        "model data untuk cluster terbaik. \n",
        "Selain itu, hasil perhitungan akan \n",
        "digunakan untuk membandingkan \n",
        "jumlah cluster"
      ],
      "metadata": {
        "id": "CQvb5X_s75ca"
      }
    },
    {
      "cell_type": "code",
      "source": [
        "# Menggunakan metode elbow untuk menentukan angka cluster yang tepat\n",
        "from sklearn.cluster import KMeans\n",
        "wcss = []\n",
        "for i in range(1, 5):\n",
        "  kmeans = KMeans(n_clusters = i, init = 'k-means++', random_state=42)\n",
        "  kmeans.fit(x)\n",
        "  wcss.append(kmeans.inertia_)\n",
        "plt.plot(range(1, 5), wcss)\n",
        "plt.title(\"Metode Elbow\")\n",
        "plt.xlabel(\"Jumlah cluster\")\n",
        "plt.ylabel(\"WCSS\")\n",
        "plt.show()"
      ],
      "metadata": {
        "colab": {
          "base_uri": "https://localhost:8080/",
          "height": 294
        },
        "id": "dHeZw9JufRSK",
        "outputId": "84112599-e08c-45d6-de88-5871299ff23d"
      },
      "execution_count": null,
      "outputs": [
        {
          "output_type": "display_data",
          "data": {
            "text/plain": [
              "<Figure size 432x288 with 1 Axes>"
            ],
            "image/png": "[encoded data removed]"
          },
          "metadata": {
            "needs_background": "light"
          }
        }
      ]
    },
    {
      "cell_type": "code",
      "source": [
        "# Mengaktifkan K-Means dengan jumlah K = 2\n",
        "kmeans = KMeans(n_clusters=2)\n",
        "kmeans.fit(x)"
      ],
      "metadata": {
        "colab": {
          "base_uri": "https://localhost:8080/"
        },
        "id": "Ln9g4alNWmA4",
        "outputId": "98e2cc11-a106-4a4c-a769-b5ccb91520d2"
      },
      "execution_count": null,
      "outputs": [
        {
          "output_type": "execute_result",
          "data": {
            "text/plain": [
              "KMeans(n_clusters=2)"
            ]
          },
          "metadata": {},
          "execution_count": 32
        }
      ]
    },
    {
      "cell_type": "code",
      "source": [
        "# Menampilkan nilai centroid\n",
        "print(kmeans.cluster_centers_)"
      ],
      "metadata": {
        "colab": {
          "base_uri": "https://localhost:8080/"
        },
        "id": "3kd2tk9QW46D",
        "outputId": "c8631308-564a-46a6-f759-7b838cc4d7d5"
      },
      "execution_count": null,
      "outputs": [
        {
          "output_type": "stream",
          "name": "stdout",
          "text": [
            "[[5.93000000e-01 6.93333333e-01 6.94333333e-01 5.95666667e-01\n",
            "  4.16000000e-01 0.00000000e+00 5.55111512e-17 0.00000000e+00]\n",
            " [7.25500000e-01 4.89000000e-01 1.70500000e-01 5.96000000e-01\n",
            "  6.31000000e-01 7.53500000e-01 6.79000000e-01 6.21500000e-01]]\n"
          ]
        }
      ]
    },
    {
      "cell_type": "code",
      "source": [
        "# Menampilkan label data point\n",
        "print(kmeans.labels_)"
      ],
      "metadata": {
        "colab": {
          "base_uri": "https://localhost:8080/"
        },
        "id": "LA_hR0RjXHce",
        "outputId": "5436967b-899c-482e-dd9e-341a7db3e2d7"
      },
      "execution_count": null,
      "outputs": [
        {
          "output_type": "stream",
          "name": "stdout",
          "text": [
            "[1 1 0 0 0]\n"
          ]
        }
      ]
    },
    {
      "cell_type": "code",
      "source": [
        "# Plot data point\n",
        "# Menampilkan hasil visualisasi klaster\n",
        "plt.scatter(x[:,0],x[:,1], c=kmeans.labels_, cmap='rainbow')\n",
        "plt.xlabel(\"V1\")\n",
        "plt.ylabel(\"V2\")\n",
        "plt.title(\"Grafik\")\n",
        "plt.show()"
      ],
      "metadata": {
        "colab": {
          "base_uri": "https://localhost:8080/",
          "height": 294
        },
        "id": "ehkDWQ2PX-Mi",
        "outputId": "3bd91a55-0f84-4b44-936f-bb5c5b2f484e"
      },
      "execution_count": null,
      "outputs": [
        {
          "output_type": "display_data",
          "data": {
            "text/plain": [
              "<Figure size 432x288 with 1 Axes>"
            ],
            "image/png": "[encoded data removed]"
          },
          "metadata": {
            "needs_background": "light"
          }
        }
      ]
    },
    {
      "cell_type": "code",
      "source": [
        "# Plot data point\n",
        "# Menampilkan hasil visualisasi klaster\n",
        "# Menampilkan nilai centroid dengan warna item\n",
        "plt.scatter(x[:,0],x[:,1], c=kmeans.labels_, cmap='rainbow')\n",
        "plt.scatter(kmeans.cluster_centers_[:,0], kmeans.cluster_centers_[:,1], color='black')\n",
        "plt.xlabel(\"v1\")\n",
        "plt.ylabel(\"V2\")\n",
        "plt.title(\"Grafik\")\n",
        "plt.show()"
      ],
      "metadata": {
        "colab": {
          "base_uri": "https://localhost:8080/",
          "height": 294
        },
        "id": "EdoYy4xPY2m1",
        "outputId": "544e6fc7-e07a-43ae-d6e0-fd542d3f4965"
      },
      "execution_count": null,
      "outputs": [
        {
          "output_type": "display_data",
          "data": {
            "text/plain": [
              "<Figure size 432x288 with 1 Axes>"
            ],
            "image/png": "[encoded data removed]"
          },
          "metadata": {
            "needs_background": "light"
          }
        }
      ]
    }
  ]
}