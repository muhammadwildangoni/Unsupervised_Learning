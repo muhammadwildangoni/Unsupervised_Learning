{
  "cells": [
    {
      "cell_type": "markdown",
      "source": [
        "## Analisis Cluster Untuk Pengelompokan Daerah yang terkena COVID-19 di setiap Kota/Kabupaten di Jawa Barat Per Tanggal 14 September 2022 Dengan Metode k-Medoids"
      ],
      "metadata": {
        "id": "V8ZWpOSF2LcH"
      },
      "id": "V8ZWpOSF2LcH"
    },
    {
      "cell_type": "markdown",
      "source": [
        "Pengertian K-Medoids\n",
        "\n",
        "Link 1 : https://medium.com/@tribinty/k-medoids-partitioning-around-medoids-pam-non-hierarchical-clustering-with-r-9d0af590bbc0\n",
        "\n",
        "Link 2 : https://piptools.net/algoritma-k-medoids-clustering/\n",
        "\n",
        "Link 3 : https://ojs.serambimekkah.ac.id/jnkti/article/view/4355/pdf"
      ],
      "metadata": {
        "id": "1mLKBtlC-WA5"
      },
      "id": "1mLKBtlC-WA5"
    },
    {
      "cell_type": "code",
      "source": [
        "!pip install scikit-learn-extra"
      ],
      "metadata": {
        "colab": {
          "base_uri": "https://localhost:8080/"
        },
        "id": "QKblzt0FIjwe",
        "outputId": "db848bd9-86ee-4d60-c507-818e95ccb427"
      },
      "id": "QKblzt0FIjwe",
      "execution_count": null,
      "outputs": [
        {
          "output_type": "stream",
          "name": "stdout",
          "text": [
            "Looking in indexes: https://pypi.org/simple, https://us-python.pkg.dev/colab-wheels/public/simple/\n",
            "Requirement already satisfied: scikit-learn-extra in /usr/local/lib/python3.7/dist-packages (0.2.0)\n",
            "Requirement already satisfied: scikit-learn>=0.23.0 in /usr/local/lib/python3.7/dist-packages (from scikit-learn-extra) (1.0.2)\n",
            "Requirement already satisfied: numpy>=1.13.3 in /usr/local/lib/python3.7/dist-packages (from scikit-learn-extra) (1.21.6)\n",
            "Requirement already satisfied: scipy>=0.19.1 in /usr/local/lib/python3.7/dist-packages (from scikit-learn-extra) (1.7.3)\n",
            "Requirement already satisfied: joblib>=0.11 in /usr/local/lib/python3.7/dist-packages (from scikit-learn>=0.23.0->scikit-learn-extra) (1.1.0)\n",
            "Requirement already satisfied: threadpoolctl>=2.0.0 in /usr/local/lib/python3.7/dist-packages (from scikit-learn>=0.23.0->scikit-learn-extra) (3.1.0)\n"
          ]
        }
      ]
    },
    {
      "cell_type": "code",
      "execution_count": null,
      "id": "d4c94cd9",
      "metadata": {
        "id": "d4c94cd9"
      },
      "outputs": [],
      "source": [
        "# Import Library\n",
        "import numpy as np\n",
        "import matplotlib.pyplot as plt\n",
        "import pandas as pd\n",
        "from sklearn_extra.cluster import KMedoids"
      ]
    },
    {
      "cell_type": "code",
      "execution_count": null,
      "id": "eea8481f",
      "metadata": {
        "colab": {
          "base_uri": "https://localhost:8080/",
          "height": 206
        },
        "id": "eea8481f",
        "outputId": "e622d7c1-d997-413e-8fa0-c713637952f7"
      },
      "outputs": [
        {
          "output_type": "execute_result",
          "data": {
            "text/plain": [
              "   Terkonfirmasi  Meninggal\n",
              "0            434        634\n",
              "1            188        307\n",
              "2            316        571\n",
              "3            242        206\n",
              "4             57        328"
            ],
            "text/html": [
              "\n",
              "  <div id=\"df-b6cd2c25-2635-4d43-8a79-4cd83199286d\">\n",
              "    <div class=\"colab-df-container\">\n",
              "      <div>\n",
              "<style scoped>\n",
              "    .dataframe tbody tr th:only-of-type {\n",
              "        vertical-align: middle;\n",
              "    }\n",
              "\n",
              "    .dataframe tbody tr th {\n",
              "        vertical-align: top;\n",
              "    }\n",
              "\n",
              "    .dataframe thead th {\n",
              "        text-align: right;\n",
              "    }\n",
              "</style>\n",
              "<table border=\"1\" class=\"dataframe\">\n",
              "  <thead>\n",
              "    <tr style=\"text-align: right;\">\n",
              "      <th></th>\n",
              "      <th>Terkonfirmasi</th>\n",
              "      <th>Meninggal</th>\n",
              "    </tr>\n",
              "  </thead>\n",
              "  <tbody>\n",
              "    <tr>\n",
              "      <th>0</th>\n",
              "      <td>434</td>\n",
              "      <td>634</td>\n",
              "    </tr>\n",
              "    <tr>\n",
              "      <th>1</th>\n",
              "      <td>188</td>\n",
              "      <td>307</td>\n",
              "    </tr>\n",
              "    <tr>\n",
              "      <th>2</th>\n",
              "      <td>316</td>\n",
              "      <td>571</td>\n",
              "    </tr>\n",
              "    <tr>\n",
              "      <th>3</th>\n",
              "      <td>242</td>\n",
              "      <td>206</td>\n",
              "    </tr>\n",
              "    <tr>\n",
              "      <th>4</th>\n",
              "      <td>57</td>\n",
              "      <td>328</td>\n",
              "    </tr>\n",
              "  </tbody>\n",
              "</table>\n",
              "</div>\n",
              "      <button class=\"colab-df-convert\" onclick=\"convertToInteractive('df-b6cd2c25-2635-4d43-8a79-4cd83199286d')\"\n",
              "              title=\"Convert this dataframe to an interactive table.\"\n",
              "              style=\"display:none;\">\n",
              "        \n",
              "  <svg xmlns=\"http://www.w3.org/2000/svg\" height=\"24px\"viewBox=\"0 0 24 24\"\n",
              "       width=\"24px\">\n",
              "    <path d=\"M0 0h24v24H0V0z\" fill=\"none\"/>\n",
              "    <path d=\"M18.56 5.44l.94 2.06.94-2.06 2.06-.94-2.06-.94-.94-2.06-.94 2.06-2.06.94zm-11 1L8.5 8.5l.94-2.06 2.06-.94-2.06-.94L8.5 2.5l-.94 2.06-2.06.94zm10 10l.94 2.06.94-2.06 2.06-.94-2.06-.94-.94-2.06-.94 2.06-2.06.94z\"/><path d=\"M17.41 7.96l-1.37-1.37c-.4-.4-.92-.59-1.43-.59-.52 0-1.04.2-1.43.59L10.3 9.45l-7.72 7.72c-.78.78-.78 2.05 0 2.83L4 21.41c.39.39.9.59 1.41.59.51 0 1.02-.2 1.41-.59l7.78-7.78 2.81-2.81c.8-.78.8-2.07 0-2.86zM5.41 20L4 18.59l7.72-7.72 1.47 1.35L5.41 20z\"/>\n",
              "  </svg>\n",
              "      </button>\n",
              "      \n",
              "  <style>\n",
              "    .colab-df-container {\n",
              "      display:flex;\n",
              "      flex-wrap:wrap;\n",
              "      gap: 12px;\n",
              "    }\n",
              "\n",
              "    .colab-df-convert {\n",
              "      background-color: #E8F0FE;\n",
              "      border: none;\n",
              "      border-radius: 50%;\n",
              "      cursor: pointer;\n",
              "      display: none;\n",
              "      fill: #1967D2;\n",
              "      height: 32px;\n",
              "      padding: 0 0 0 0;\n",
              "      width: 32px;\n",
              "    }\n",
              "\n",
              "    .colab-df-convert:hover {\n",
              "      background-color: #E2EBFA;\n",
              "      box-shadow: 0px 1px 2px rgba(60, 64, 67, 0.3), 0px 1px 3px 1px rgba(60, 64, 67, 0.15);\n",
              "      fill: #174EA6;\n",
              "    }\n",
              "\n",
              "    [theme=dark] .colab-df-convert {\n",
              "      background-color: #3B4455;\n",
              "      fill: #D2E3FC;\n",
              "    }\n",
              "\n",
              "    [theme=dark] .colab-df-convert:hover {\n",
              "      background-color: #434B5C;\n",
              "      box-shadow: 0px 1px 3px 1px rgba(0, 0, 0, 0.15);\n",
              "      filter: drop-shadow(0px 1px 2px rgba(0, 0, 0, 0.3));\n",
              "      fill: #FFFFFF;\n",
              "    }\n",
              "  </style>\n",
              "\n",
              "      <script>\n",
              "        const buttonEl =\n",
              "          document.querySelector('#df-b6cd2c25-2635-4d43-8a79-4cd83199286d button.colab-df-convert');\n",
              "        buttonEl.style.display =\n",
              "          google.colab.kernel.accessAllowed ? 'block' : 'none';\n",
              "\n",
              "        async function convertToInteractive(key) {\n",
              "          const element = document.querySelector('#df-b6cd2c25-2635-4d43-8a79-4cd83199286d');\n",
              "          const dataTable =\n",
              "            await google.colab.kernel.invokeFunction('convertToInteractive',\n",
              "                                                     [key], {});\n",
              "          if (!dataTable) return;\n",
              "\n",
              "          const docLinkHtml = 'Like what you see? Visit the ' +\n",
              "            '<a target=\"_blank\" href=https://colab.research.google.com/notebooks/data_table.ipynb>data table notebook</a>'\n",
              "            + ' to learn more about interactive tables.';\n",
              "          element.innerHTML = '';\n",
              "          dataTable['output_type'] = 'display_data';\n",
              "          await google.colab.output.renderOutput(dataTable, element);\n",
              "          const docLink = document.createElement('div');\n",
              "          docLink.innerHTML = docLinkHtml;\n",
              "          element.appendChild(docLink);\n",
              "        }\n",
              "      </script>\n",
              "    </div>\n",
              "  </div>\n",
              "  "
            ]
          },
          "metadata": {},
          "execution_count": 3
        }
      ],
      "source": [
        "# Import Data\n",
        "data = pd.read_excel('Data COVID JABAR.xlsx','Sheet3')\n",
        "df = pd.read_excel('Data COVID JABAR.xlsx','Sheet3', usecols=\"B:C\")\n",
        "df.head()"
      ]
    },
    {
      "cell_type": "markdown",
      "source": [
        "### Standard Scaling\n",
        "\n",
        "Scaling termasuk dalam bagian preprocessing. Umumnya, orang menggunakan scikit-learn dalam pembuatan model machine learning. Di scikit-learn ada beberapa scaler yang umum dijumpai yaitu StandardScaler. StandardScaler adalah class dari sklearn untuk melakukan normalisasi data agar data yang digunakan tidak memiliki penyimpangan yang besar.\n",
        "Link : https://medium.com/codelabs-unikom/membangun-model-klasifikasi-untuk-memprediksi-pokemon-legend-935d2accceaa#:~:text=StandardScaler%20adalah%20class%20dari%20sklearn,tidak%20memiliki%20penyimpangan%20yang%20besar.&text=Satu%20hal%20penting%20dalam%20Data,apa%20yang%20akan%20di%20analisis."
      ],
      "metadata": {
        "id": "hep9L63a28S1"
      },
      "id": "hep9L63a28S1"
    },
    {
      "cell_type": "code",
      "execution_count": null,
      "id": "87ae18ac",
      "metadata": {
        "colab": {
          "base_uri": "https://localhost:8080/"
        },
        "id": "87ae18ac",
        "outputId": "f99bccba-4fb8-48d4-c8d2-0c82980fffa1"
      },
      "outputs": [
        {
          "output_type": "execute_result",
          "data": {
            "text/plain": [
              "array([[ 4.29171074e-02,  1.22459110e-01],\n",
              "       [-1.80862632e-01, -4.98036524e-01],\n",
              "       [-6.44243936e-02,  2.91407954e-03],\n",
              "       [-1.31740250e-01, -6.89688081e-01],\n",
              "       [-3.00029891e-01, -4.58188181e-01],\n",
              "       [-2.78197722e-01, -6.49839737e-01],\n",
              "       [-3.27320103e-01,  7.54339985e-01],\n",
              "       [-2.15430234e-01,  1.35965530e+00],\n",
              "       [-3.10036302e-01,  3.71036872e-01],\n",
              "       [-2.26346319e-01,  2.80178582e+00],\n",
              "       [-3.07307281e-01, -5.30294707e-01],\n",
              "       [-3.19133040e-01, -5.73938131e-01],\n",
              "       [-3.30049125e-01, -7.84565089e-01],\n",
              "       [-3.21862061e-01,  7.31230657e-02],\n",
              "       [-2.23617297e-01, -5.13216845e-01],\n",
              "       [-3.20042714e-01, -4.03159516e-01],\n",
              "       [-3.11855650e-01, -7.39024125e-01],\n",
              "       [-3.16404019e-01, -4.75266042e-01],\n",
              "       [ 4.29528445e-01, -2.20995660e-01],\n",
              "       [-3.30958798e-01, -8.05438031e-01],\n",
              "       [ 2.56690435e-01,  9.28913680e-01],\n",
              "       [ 1.37523176e-01, -3.31391836e-02],\n",
              "       [-5.53276562e-02, -7.01073322e-01],\n",
              "       [-2.30894687e-01, -2.77854096e-03],\n",
              "       [ 5.10161276e+00,  3.21355204e+00],\n",
              "       [-2.48178488e-01, -5.30294707e-01],\n",
              "       [-2.72739679e-01,  4.46599632e-02],\n",
              "       [-3.45513578e-01, -1.06350349e+00]])"
            ]
          },
          "metadata": {},
          "execution_count": 4
        }
      ],
      "source": [
        "# Import Library StandarScaler\n",
        "from sklearn.preprocessing import StandardScaler\n",
        "# Proses Standard Scaling\n",
        "scaler = StandardScaler()\n",
        "X_scaled = scaler.fit_transform(df)\n",
        "X_scaled"
      ]
    },
    {
      "cell_type": "markdown",
      "source": [
        "### Matode Elbow\n",
        "\n",
        "Elbow method adalah metoda yang sering dipakai untuk menentukan jumlah cluster yang akan digunakan pada k-means clustering.\n",
        "\n",
        "Seperti yang sudah dibahas sebelumnya, clustering adalah meminimumkan jarak antara data point dan centroid, serta memaksimumkan jarak antara centroid yang dihitung menggunakan within-cluster sum of squares atau WCSS.\n",
        "\n",
        "Link : https://skillplus.web.id/elbow-method/"
      ],
      "metadata": {
        "id": "E58Ywr1F5cro"
      },
      "id": "E58Ywr1F5cro"
    },
    {
      "cell_type": "code",
      "execution_count": null,
      "id": "7a4c5442",
      "metadata": {
        "colab": {
          "base_uri": "https://localhost:8080/",
          "height": 295
        },
        "id": "7a4c5442",
        "outputId": "48ff34b8-699f-46c3-ca59-de876acafde1"
      },
      "outputs": [
        {
          "output_type": "display_data",
          "data": {
            "text/plain": [
              "<Figure size 432x288 with 1 Axes>"
            ],
            "image/png": "[encoded data removed]"
          },
          "metadata": {
            "needs_background": "light"
          }
        }
      ],
      "source": [
        "# Menggunakan metode elbow untuk menentukan angka cluster yang tepat\n",
        "wcss = []\n",
        "for i in range(1, 5):\n",
        "  kmedoids = KMedoids(n_clusters = i, init = 'k-medoids++', random_state=42)\n",
        "  kmedoids.fit(df)\n",
        "  wcss.append(kmedoids.inertia_)\n",
        "plt.plot(range(1, 5), wcss)\n",
        "plt.title(\"Metode Elbow\")\n",
        "plt.xlabel(\"Jumlah cluster\")\n",
        "plt.ylabel(\"WCSS\")\n",
        "plt.show()"
      ]
    },
    {
      "cell_type": "markdown",
      "source": [
        "### Proses Clustering dengan K-Medoids"
      ],
      "metadata": {
        "id": "dO9UQIcs710c"
      },
      "id": "dO9UQIcs710c"
    },
    {
      "cell_type": "code",
      "execution_count": null,
      "id": "c7709a39",
      "metadata": {
        "id": "c7709a39"
      },
      "outputs": [],
      "source": [
        "# Proses Clustering\n",
        "kMedoids = KMedoids(n_clusters = 3, max_iter=300, metric='euclidean', random_state = 0)\n",
        "kMedoids.fit(X_scaled)\n",
        "y_kmed = kMedoids.fit_predict(X_scaled)"
      ]
    },
    {
      "cell_type": "code",
      "execution_count": null,
      "id": "a09ec81b",
      "metadata": {
        "colab": {
          "base_uri": "https://localhost:8080/",
          "height": 927
        },
        "id": "a09ec81b",
        "outputId": "e050ca8e-7cf9-43f1-8e48-37d001de34dd"
      },
      "outputs": [
        {
          "output_type": "execute_result",
          "data": {
            "text/plain": [
              "               Nama Kota/Kabupaten  Terkonfirmasi  Meninggal  Cluster\n",
              "0                     KAB. BANDUNG            434        634        2\n",
              "1               KAB. BANDUNG BARAT            188        307        1\n",
              "2                      KAB. BEKASI            316        571        2\n",
              "3                       KAB. BOGOR            242        206        1\n",
              "4                      KAB. CIAMIS             57        328        1\n",
              "5                     KAB. CIANJUR             81        227        1\n",
              "6                     KAB. CIREBON             27        967        0\n",
              "7                       KAB. GARUT            150       1286        0\n",
              "8                   KAB. INDRAMAYU             46        765        2\n",
              "9                    KAB. KARAWANG            138       2046        0\n",
              "10                   KAB. KUNINGAN             49        290        1\n",
              "11                 KAB. MAJALENGKA             36        267        1\n",
              "12                KAB. PANGANDARAN             24        156        1\n",
              "13                 KAB. PURWAKARTA             33        608        2\n",
              "14                     KAB. SUBANG            141        299        1\n",
              "15                   KAB. SUKABUMI             35        357        1\n",
              "16                   KAB. SUMEDANG             44        180        1\n",
              "17                KAB. TASIKMALAYA             39        319        1\n",
              "18                    KOTA BANDUNG            859        453        2\n",
              "19                     KOTA BANJAR             23        145        1\n",
              "20                     KOTA BEKASI            669       1059        0\n",
              "21                      KOTA BOGOR            538        552        2\n",
              "22                     KOTA CIMAHI            326        200        1\n",
              "23                    KOTA CIREBON            133        568        2\n",
              "24                      KOTA DEPOK           5995       2263        0\n",
              "25                   KOTA SUKABUMI            114        290        1\n",
              "26                KOTA TASIKMALAYA             87        593        2\n",
              "27  KOTA/KAB BELUM TERIDENTIFIKASI              7          9        1"
            ],
            "text/html": [
              "\n",
              "  <div id=\"df-f9cf5ba1-2c79-4134-b314-15fe88ad4620\">\n",
              "    <div class=\"colab-df-container\">\n",
              "      <div>\n",
              "<style scoped>\n",
              "    .dataframe tbody tr th:only-of-type {\n",
              "        vertical-align: middle;\n",
              "    }\n",
              "\n",
              "    .dataframe tbody tr th {\n",
              "        vertical-align: top;\n",
              "    }\n",
              "\n",
              "    .dataframe thead th {\n",
              "        text-align: right;\n",
              "    }\n",
              "</style>\n",
              "<table border=\"1\" class=\"dataframe\">\n",
              "  <thead>\n",
              "    <tr style=\"text-align: right;\">\n",
              "      <th></th>\n",
              "      <th>Nama Kota/Kabupaten</th>\n",
              "      <th>Terkonfirmasi</th>\n",
              "      <th>Meninggal</th>\n",
              "      <th>Cluster</th>\n",
              "    </tr>\n",
              "  </thead>\n",
              "  <tbody>\n",
              "    <tr>\n",
              "      <th>0</th>\n",
              "      <td>KAB. BANDUNG</td>\n",
              "      <td>434</td>\n",
              "      <td>634</td>\n",
              "      <td>2</td>\n",
              "    </tr>\n",
              "    <tr>\n",
              "      <th>1</th>\n",
              "      <td>KAB. BANDUNG BARAT</td>\n",
              "      <td>188</td>\n",
              "      <td>307</td>\n",
              "      <td>1</td>\n",
              "    </tr>\n",
              "    <tr>\n",
              "      <th>2</th>\n",
              "      <td>KAB. BEKASI</td>\n",
              "      <td>316</td>\n",
              "      <td>571</td>\n",
              "      <td>2</td>\n",
              "    </tr>\n",
              "    <tr>\n",
              "      <th>3</th>\n",
              "      <td>KAB. BOGOR</td>\n",
              "      <td>242</td>\n",
              "      <td>206</td>\n",
              "      <td>1</td>\n",
              "    </tr>\n",
              "    <tr>\n",
              "      <th>4</th>\n",
              "      <td>KAB. CIAMIS</td>\n",
              "      <td>57</td>\n",
              "      <td>328</td>\n",
              "      <td>1</td>\n",
              "    </tr>\n",
              "    <tr>\n",
              "      <th>5</th>\n",
              "      <td>KAB. CIANJUR</td>\n",
              "      <td>81</td>\n",
              "      <td>227</td>\n",
              "      <td>1</td>\n",
              "    </tr>\n",
              "    <tr>\n",
              "      <th>6</th>\n",
              "      <td>KAB. CIREBON</td>\n",
              "      <td>27</td>\n",
              "      <td>967</td>\n",
              "      <td>0</td>\n",
              "    </tr>\n",
              "    <tr>\n",
              "      <th>7</th>\n",
              "      <td>KAB. GARUT</td>\n",
              "      <td>150</td>\n",
              "      <td>1286</td>\n",
              "      <td>0</td>\n",
              "    </tr>\n",
              "    <tr>\n",
              "      <th>8</th>\n",
              "      <td>KAB. INDRAMAYU</td>\n",
              "      <td>46</td>\n",
              "      <td>765</td>\n",
              "      <td>2</td>\n",
              "    </tr>\n",
              "    <tr>\n",
              "      <th>9</th>\n",
              "      <td>KAB. KARAWANG</td>\n",
              "      <td>138</td>\n",
              "      <td>2046</td>\n",
              "      <td>0</td>\n",
              "    </tr>\n",
              "    <tr>\n",
              "      <th>10</th>\n",
              "      <td>KAB. KUNINGAN</td>\n",
              "      <td>49</td>\n",
              "      <td>290</td>\n",
              "      <td>1</td>\n",
              "    </tr>\n",
              "    <tr>\n",
              "      <th>11</th>\n",
              "      <td>KAB. MAJALENGKA</td>\n",
              "      <td>36</td>\n",
              "      <td>267</td>\n",
              "      <td>1</td>\n",
              "    </tr>\n",
              "    <tr>\n",
              "      <th>12</th>\n",
              "      <td>KAB. PANGANDARAN</td>\n",
              "      <td>24</td>\n",
              "      <td>156</td>\n",
              "      <td>1</td>\n",
              "    </tr>\n",
              "    <tr>\n",
              "      <th>13</th>\n",
              "      <td>KAB. PURWAKARTA</td>\n",
              "      <td>33</td>\n",
              "      <td>608</td>\n",
              "      <td>2</td>\n",
              "    </tr>\n",
              "    <tr>\n",
              "      <th>14</th>\n",
              "      <td>KAB. SUBANG</td>\n",
              "      <td>141</td>\n",
              "      <td>299</td>\n",
              "      <td>1</td>\n",
              "    </tr>\n",
              "    <tr>\n",
              "      <th>15</th>\n",
              "      <td>KAB. SUKABUMI</td>\n",
              "      <td>35</td>\n",
              "      <td>357</td>\n",
              "      <td>1</td>\n",
              "    </tr>\n",
              "    <tr>\n",
              "      <th>16</th>\n",
              "      <td>KAB. SUMEDANG</td>\n",
              "      <td>44</td>\n",
              "      <td>180</td>\n",
              "      <td>1</td>\n",
              "    </tr>\n",
              "    <tr>\n",
              "      <th>17</th>\n",
              "      <td>KAB. TASIKMALAYA</td>\n",
              "      <td>39</td>\n",
              "      <td>319</td>\n",
              "      <td>1</td>\n",
              "    </tr>\n",
              "    <tr>\n",
              "      <th>18</th>\n",
              "      <td>KOTA BANDUNG</td>\n",
              "      <td>859</td>\n",
              "      <td>453</td>\n",
              "      <td>2</td>\n",
              "    </tr>\n",
              "    <tr>\n",
              "      <th>19</th>\n",
              "      <td>KOTA BANJAR</td>\n",
              "      <td>23</td>\n",
              "      <td>145</td>\n",
              "      <td>1</td>\n",
              "    </tr>\n",
              "    <tr>\n",
              "      <th>20</th>\n",
              "      <td>KOTA BEKASI</td>\n",
              "      <td>669</td>\n",
              "      <td>1059</td>\n",
              "      <td>0</td>\n",
              "    </tr>\n",
              "    <tr>\n",
              "      <th>21</th>\n",
              "      <td>KOTA BOGOR</td>\n",
              "      <td>538</td>\n",
              "      <td>552</td>\n",
              "      <td>2</td>\n",
              "    </tr>\n",
              "    <tr>\n",
              "      <th>22</th>\n",
              "      <td>KOTA CIMAHI</td>\n",
              "      <td>326</td>\n",
              "      <td>200</td>\n",
              "      <td>1</td>\n",
              "    </tr>\n",
              "    <tr>\n",
              "      <th>23</th>\n",
              "      <td>KOTA CIREBON</td>\n",
              "      <td>133</td>\n",
              "      <td>568</td>\n",
              "      <td>2</td>\n",
              "    </tr>\n",
              "    <tr>\n",
              "      <th>24</th>\n",
              "      <td>KOTA DEPOK</td>\n",
              "      <td>5995</td>\n",
              "      <td>2263</td>\n",
              "      <td>0</td>\n",
              "    </tr>\n",
              "    <tr>\n",
              "      <th>25</th>\n",
              "      <td>KOTA SUKABUMI</td>\n",
              "      <td>114</td>\n",
              "      <td>290</td>\n",
              "      <td>1</td>\n",
              "    </tr>\n",
              "    <tr>\n",
              "      <th>26</th>\n",
              "      <td>KOTA TASIKMALAYA</td>\n",
              "      <td>87</td>\n",
              "      <td>593</td>\n",
              "      <td>2</td>\n",
              "    </tr>\n",
              "    <tr>\n",
              "      <th>27</th>\n",
              "      <td>KOTA/KAB BELUM TERIDENTIFIKASI</td>\n",
              "      <td>7</td>\n",
              "      <td>9</td>\n",
              "      <td>1</td>\n",
              "    </tr>\n",
              "  </tbody>\n",
              "</table>\n",
              "</div>\n",
              "      <button class=\"colab-df-convert\" onclick=\"convertToInteractive('df-f9cf5ba1-2c79-4134-b314-15fe88ad4620')\"\n",
              "              title=\"Convert this dataframe to an interactive table.\"\n",
              "              style=\"display:none;\">\n",
              "        \n",
              "  <svg xmlns=\"http://www.w3.org/2000/svg\" height=\"24px\"viewBox=\"0 0 24 24\"\n",
              "       width=\"24px\">\n",
              "    <path d=\"M0 0h24v24H0V0z\" fill=\"none\"/>\n",
              "    <path d=\"M18.56 5.44l.94 2.06.94-2.06 2.06-.94-2.06-.94-.94-2.06-.94 2.06-2.06.94zm-11 1L8.5 8.5l.94-2.06 2.06-.94-2.06-.94L8.5 2.5l-.94 2.06-2.06.94zm10 10l.94 2.06.94-2.06 2.06-.94-2.06-.94-.94-2.06-.94 2.06-2.06.94z\"/><path d=\"M17.41 7.96l-1.37-1.37c-.4-.4-.92-.59-1.43-.59-.52 0-1.04.2-1.43.59L10.3 9.45l-7.72 7.72c-.78.78-.78 2.05 0 2.83L4 21.41c.39.39.9.59 1.41.59.51 0 1.02-.2 1.41-.59l7.78-7.78 2.81-2.81c.8-.78.8-2.07 0-2.86zM5.41 20L4 18.59l7.72-7.72 1.47 1.35L5.41 20z\"/>\n",
              "  </svg>\n",
              "      </button>\n",
              "      \n",
              "  <style>\n",
              "    .colab-df-container {\n",
              "      display:flex;\n",
              "      flex-wrap:wrap;\n",
              "      gap: 12px;\n",
              "    }\n",
              "\n",
              "    .colab-df-convert {\n",
              "      background-color: #E8F0FE;\n",
              "      border: none;\n",
              "      border-radius: 50%;\n",
              "      cursor: pointer;\n",
              "      display: none;\n",
              "      fill: #1967D2;\n",
              "      height: 32px;\n",
              "      padding: 0 0 0 0;\n",
              "      width: 32px;\n",
              "    }\n",
              "\n",
              "    .colab-df-convert:hover {\n",
              "      background-color: #E2EBFA;\n",
              "      box-shadow: 0px 1px 2px rgba(60, 64, 67, 0.3), 0px 1px 3px 1px rgba(60, 64, 67, 0.15);\n",
              "      fill: #174EA6;\n",
              "    }\n",
              "\n",
              "    [theme=dark] .colab-df-convert {\n",
              "      background-color: #3B4455;\n",
              "      fill: #D2E3FC;\n",
              "    }\n",
              "\n",
              "    [theme=dark] .colab-df-convert:hover {\n",
              "      background-color: #434B5C;\n",
              "      box-shadow: 0px 1px 3px 1px rgba(0, 0, 0, 0.15);\n",
              "      filter: drop-shadow(0px 1px 2px rgba(0, 0, 0, 0.3));\n",
              "      fill: #FFFFFF;\n",
              "    }\n",
              "  </style>\n",
              "\n",
              "      <script>\n",
              "        const buttonEl =\n",
              "          document.querySelector('#df-f9cf5ba1-2c79-4134-b314-15fe88ad4620 button.colab-df-convert');\n",
              "        buttonEl.style.display =\n",
              "          google.colab.kernel.accessAllowed ? 'block' : 'none';\n",
              "\n",
              "        async function convertToInteractive(key) {\n",
              "          const element = document.querySelector('#df-f9cf5ba1-2c79-4134-b314-15fe88ad4620');\n",
              "          const dataTable =\n",
              "            await google.colab.kernel.invokeFunction('convertToInteractive',\n",
              "                                                     [key], {});\n",
              "          if (!dataTable) return;\n",
              "\n",
              "          const docLinkHtml = 'Like what you see? Visit the ' +\n",
              "            '<a target=\"_blank\" href=https://colab.research.google.com/notebooks/data_table.ipynb>data table notebook</a>'\n",
              "            + ' to learn more about interactive tables.';\n",
              "          element.innerHTML = '';\n",
              "          dataTable['output_type'] = 'display_data';\n",
              "          await google.colab.output.renderOutput(dataTable, element);\n",
              "          const docLink = document.createElement('div');\n",
              "          docLink.innerHTML = docLinkHtml;\n",
              "          element.appendChild(docLink);\n",
              "        }\n",
              "      </script>\n",
              "    </div>\n",
              "  </div>\n",
              "  "
            ]
          },
          "metadata": {},
          "execution_count": 7
        }
      ],
      "source": [
        "# Hasil Clustering\n",
        "data['Cluster'] = kMedoids.labels_\n",
        "data"
      ]
    },
    {
      "cell_type": "code",
      "source": [
        "! pip install openpyxl"
      ],
      "metadata": {
        "colab": {
          "base_uri": "https://localhost:8080/"
        },
        "id": "47sx5T6TBiFG",
        "outputId": "f1f84de2-3955-4f34-95f1-826b036d455e"
      },
      "id": "47sx5T6TBiFG",
      "execution_count": null,
      "outputs": [
        {
          "output_type": "stream",
          "name": "stdout",
          "text": [
            "Looking in indexes: https://pypi.org/simple, https://us-python.pkg.dev/colab-wheels/public/simple/\n",
            "Requirement already satisfied: openpyxl in /usr/local/lib/python3.7/dist-packages (3.0.10)\n",
            "Requirement already satisfied: et-xmlfile in /usr/local/lib/python3.7/dist-packages (from openpyxl) (1.1.0)\n"
          ]
        }
      ]
    },
    {
      "cell_type": "code",
      "source": [
        "data.to_excel(\"K-Medoids_cluster.xlsx\")"
      ],
      "metadata": {
        "id": "kEa5wzdABmI7"
      },
      "id": "kEa5wzdABmI7",
      "execution_count": null,
      "outputs": []
    },
    {
      "cell_type": "markdown",
      "source": [
        "### Hasil Clustering Dalam Bentuk Visualisasi"
      ],
      "metadata": {
        "id": "f27pixmt8Fra"
      },
      "id": "f27pixmt8Fra"
    },
    {
      "cell_type": "code",
      "execution_count": null,
      "id": "239e5cac",
      "metadata": {
        "colab": {
          "base_uri": "https://localhost:8080/",
          "height": 499
        },
        "id": "239e5cac",
        "outputId": "8467a692-e308-4c89-8213-d4e9e5a382e6"
      },
      "outputs": [
        {
          "output_type": "display_data",
          "data": {
            "text/plain": [
              "<Figure size 720x576 with 1 Axes>"
            ],
            "image/png": "[encoded data removed]"
          },
          "metadata": {
            "needs_background": "light"
          }
        }
      ],
      "source": [
        "plt.figure (figsize=(10, 8))\n",
        "plt.scatter (X_scaled[y_kmed == 0, 0], X_scaled[y_kmed == 0, 1], s = 100, c = 'red', label = 'C1')\n",
        "plt.scatter (X_scaled[y_kmed == 1, 0], X_scaled[y_kmed == 1, 1], s = 100, c = 'blue', label = 'C2')\n",
        "plt.scatter (X_scaled[y_kmed == 2, 0], X_scaled[y_kmed == 2, 1], s = 100, c = 'green', label = 'C3')\n",
        "plt.savefig(\"plot_K-Medoids_clutsering.png\")\n",
        "plt.title(\"Grafik K-Medoids Clustering COVID Jawa Barat\")\n",
        "plt.legend(loc=\"lower right\");"
      ]
    },
    {
      "cell_type": "markdown",
      "source": [
        "### Silhoutte Score\n",
        "\n",
        "Skor Silhouette digunakan untuk mengevaluasi kualitas cluster yang dibuat menggunakan algoritma clustering seperti K-Means, K-Medoids, DBSCAN dll dalam hal seberapa baik sampel dikelompokkan dengan sampel lain yang mirip satu sama lain. Skor Silhouette dihitung untuk setiap sampel dari cluster yang berbeda. Untuk menghitung skor Silhouette untuk setiap pengamatan/titik data, perlu diketahui jarak berikut untuk setiap pengamatan yang termasuk dalam semua cluster.\n",
        "\n",
        "Link 1 :https://signalfix.net/id/skor-silhouette-kmeans-dijelaskan-dengan-contoh-python\n",
        "\n",
        "Link 2 : https://towardsdatascience.com/silhouette-coefficient-validating-clustering-techniques-e976bb81d10c"
      ],
      "metadata": {
        "id": "tUUgOQUE8MJ5"
      },
      "id": "tUUgOQUE8MJ5"
    },
    {
      "cell_type": "code",
      "execution_count": null,
      "id": "d4da9c7b",
      "metadata": {
        "colab": {
          "base_uri": "https://localhost:8080/"
        },
        "id": "d4da9c7b",
        "outputId": "73e21662-18fc-412b-8960-6e2797d12e50"
      },
      "outputs": [
        {
          "output_type": "stream",
          "name": "stdout",
          "text": [
            "0.459821430959625\n"
          ]
        }
      ],
      "source": [
        "# Import Library Silhoutte Score\n",
        "from sklearn.metrics import silhouette_score\n",
        "\n",
        "silhouette_avg = silhouette_score(X_scaled, y_kmed)\n",
        "print(silhouette_avg)"
      ]
    },
    {
      "cell_type": "code",
      "execution_count": null,
      "id": "1dbc7644",
      "metadata": {
        "id": "1dbc7644"
      },
      "outputs": [],
      "source": [
        "# Proses Visualisasi Silhouette Score\n",
        "# sw (Silhouette Widht)\n",
        "sw = []\n",
        "\n",
        "for i in range(2, 11):\n",
        "    kMedoids = KMedoids(n_clusters = i, random_state = 42)\n",
        "    kMedoids.fit(X_scaled)\n",
        "    y_kmed = kMedoids.fit_predict(X_scaled)\n",
        "    silhouette_avg = silhouette_score(X_scaled, y_kmed)\n",
        "    sw.append(silhouette_avg)"
      ]
    },
    {
      "cell_type": "code",
      "execution_count": null,
      "id": "c93fa841",
      "metadata": {
        "colab": {
          "base_uri": "https://localhost:8080/",
          "height": 295
        },
        "id": "c93fa841",
        "outputId": "76cf30fc-9759-448e-c59b-afdefdff883e"
      },
      "outputs": [
        {
          "output_type": "display_data",
          "data": {
            "text/plain": [
              "<Figure size 432x288 with 1 Axes>"
            ],
            "image/png": "[encoded data removed]"
          },
          "metadata": {
            "needs_background": "light"
          }
        }
      ],
      "source": [
        "# Visualisasi nilai Silhouette Score\n",
        "plt.plot(range(2, 11), sw)\n",
        "plt.title('Silhoute Score')\n",
        "plt.xlabel('Number of clusters')\n",
        "plt.ylabel('SW')      #within cluster sum of squares\n",
        "plt.show();"
      ]
    }
  ],
  "metadata": {
    "kernelspec": {
      "display_name": "Python [conda env:root] *",
      "language": "python",
      "name": "conda-root-py"
    },
    "language_info": {
      "codemirror_mode": {
        "name": "ipython",
        "version": 3
      },
      "file_extension": ".py",
      "mimetype": "text/x-python",
      "name": "python",
      "nbconvert_exporter": "python",
      "pygments_lexer": "ipython3",
      "version": "3.8.5"
    },
    "varInspector": {
      "cols": {
        "lenName": 16,
        "lenType": 16,
        "lenVar": 40
      },
      "kernels_config": {
        "python": {
          "delete_cmd_postfix": "",
          "delete_cmd_prefix": "del ",
          "library": "var_list.py",
          "varRefreshCmd": "print(var_dic_list())"
        },
        "r": {
          "delete_cmd_postfix": ") ",
          "delete_cmd_prefix": "rm(",
          "library": "var_list.r",
          "varRefreshCmd": "cat(var_dic_list()) "
        }
      },
      "types_to_exclude": [
        "module",
        "function",
        "builtin_function_or_method",
        "instance",
        "_Feature"
      ],
      "window_display": false
    },
    "colab": {
      "provenance": []
    }
  },
  "nbformat": 4,
  "nbformat_minor": 5
}