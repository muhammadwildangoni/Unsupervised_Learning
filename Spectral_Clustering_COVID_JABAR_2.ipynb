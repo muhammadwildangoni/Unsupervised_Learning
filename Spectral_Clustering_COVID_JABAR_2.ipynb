{
  "nbformat": 4,
  "nbformat_minor": 0,
  "metadata": {
    "colab": {
      "provenance": []
    },
    "kernelspec": {
      "name": "python3",
      "display_name": "Python 3"
    },
    "language_info": {
      "name": "python"
    }
  },
  "cells": [
    {
      "cell_type": "markdown",
      "source": [
        "## ## Analisis Cluster Untuk Pengelompokan Daerah yang terkena COVID-19 di setiap Kota/Kabupaten di Jawa Barat Per Tanggal 14 September 2022 Dengan Metode Spectral Clustering"
      ],
      "metadata": {
        "id": "_0WU-fAmFK2L"
      }
    },
    {
      "cell_type": "markdown",
      "source": [
        "Penjelasan Spectral Clustering\n",
        "\n",
        "Link 1 : https://piptools.net/spectral-clustks-laplacian-l/\n",
        "\n",
        "Link 2 : http://repository.usd.ac.id/39165/2/165314100_full.pdf\n",
        "\n",
        "Link 3 : https://www.geeksforgeeks.org/ml-spectral-clustering/"
      ],
      "metadata": {
        "id": "Z-_0ZKbHFUl_"
      }
    },
    {
      "cell_type": "code",
      "execution_count": null,
      "metadata": {
        "id": "h0M2VM2JQZ7e"
      },
      "outputs": [],
      "source": [
        "# Import Library\n",
        "import pandas as pd\n",
        "import matplotlib.pyplot as plt\n",
        "from sklearn.cluster import SpectralClustering\n",
        "from sklearn.preprocessing import StandardScaler, normalize\n",
        "from sklearn.metrics import silhouette_score"
      ]
    },
    {
      "cell_type": "code",
      "source": [
        "# Import Data\n",
        "data = pd.read_excel('Data COVID JABAR.xlsx','Sheet3')\n",
        "df = pd.read_excel('Data COVID JABAR.xlsx','Sheet3',usecols=\"B:C\")\n",
        "df.head()"
      ],
      "metadata": {
        "colab": {
          "base_uri": "https://localhost:8080/",
          "height": 206
        },
        "id": "OCVmJBcnUJeb",
        "outputId": "fa88141b-fc39-43a5-bbd1-627f811889ef"
      },
      "execution_count": null,
      "outputs": [
        {
          "output_type": "execute_result",
          "data": {
            "text/plain": [
              "   Terkonfirmasi  Meninggal\n",
              "0            434        634\n",
              "1            188        307\n",
              "2            316        571\n",
              "3            242        206\n",
              "4             57        328"
            ],
            "text/html": [
              "\n",
              "  <div id=\"df-32861fd0-c191-4bf5-a836-56c9cab50708\">\n",
              "    <div class=\"colab-df-container\">\n",
              "      <div>\n",
              "<style scoped>\n",
              "    .dataframe tbody tr th:only-of-type {\n",
              "        vertical-align: middle;\n",
              "    }\n",
              "\n",
              "    .dataframe tbody tr th {\n",
              "        vertical-align: top;\n",
              "    }\n",
              "\n",
              "    .dataframe thead th {\n",
              "        text-align: right;\n",
              "    }\n",
              "</style>\n",
              "<table border=\"1\" class=\"dataframe\">\n",
              "  <thead>\n",
              "    <tr style=\"text-align: right;\">\n",
              "      <th></th>\n",
              "      <th>Terkonfirmasi</th>\n",
              "      <th>Meninggal</th>\n",
              "    </tr>\n",
              "  </thead>\n",
              "  <tbody>\n",
              "    <tr>\n",
              "      <th>0</th>\n",
              "      <td>434</td>\n",
              "      <td>634</td>\n",
              "    </tr>\n",
              "    <tr>\n",
              "      <th>1</th>\n",
              "      <td>188</td>\n",
              "      <td>307</td>\n",
              "    </tr>\n",
              "    <tr>\n",
              "      <th>2</th>\n",
              "      <td>316</td>\n",
              "      <td>571</td>\n",
              "    </tr>\n",
              "    <tr>\n",
              "      <th>3</th>\n",
              "      <td>242</td>\n",
              "      <td>206</td>\n",
              "    </tr>\n",
              "    <tr>\n",
              "      <th>4</th>\n",
              "      <td>57</td>\n",
              "      <td>328</td>\n",
              "    </tr>\n",
              "  </tbody>\n",
              "</table>\n",
              "</div>\n",
              "      <button class=\"colab-df-convert\" onclick=\"convertToInteractive('df-32861fd0-c191-4bf5-a836-56c9cab50708')\"\n",
              "              title=\"Convert this dataframe to an interactive table.\"\n",
              "              style=\"display:none;\">\n",
              "        \n",
              "  <svg xmlns=\"http://www.w3.org/2000/svg\" height=\"24px\"viewBox=\"0 0 24 24\"\n",
              "       width=\"24px\">\n",
              "    <path d=\"M0 0h24v24H0V0z\" fill=\"none\"/>\n",
              "    <path d=\"M18.56 5.44l.94 2.06.94-2.06 2.06-.94-2.06-.94-.94-2.06-.94 2.06-2.06.94zm-11 1L8.5 8.5l.94-2.06 2.06-.94-2.06-.94L8.5 2.5l-.94 2.06-2.06.94zm10 10l.94 2.06.94-2.06 2.06-.94-2.06-.94-.94-2.06-.94 2.06-2.06.94z\"/><path d=\"M17.41 7.96l-1.37-1.37c-.4-.4-.92-.59-1.43-.59-.52 0-1.04.2-1.43.59L10.3 9.45l-7.72 7.72c-.78.78-.78 2.05 0 2.83L4 21.41c.39.39.9.59 1.41.59.51 0 1.02-.2 1.41-.59l7.78-7.78 2.81-2.81c.8-.78.8-2.07 0-2.86zM5.41 20L4 18.59l7.72-7.72 1.47 1.35L5.41 20z\"/>\n",
              "  </svg>\n",
              "      </button>\n",
              "      \n",
              "  <style>\n",
              "    .colab-df-container {\n",
              "      display:flex;\n",
              "      flex-wrap:wrap;\n",
              "      gap: 12px;\n",
              "    }\n",
              "\n",
              "    .colab-df-convert {\n",
              "      background-color: #E8F0FE;\n",
              "      border: none;\n",
              "      border-radius: 50%;\n",
              "      cursor: pointer;\n",
              "      display: none;\n",
              "      fill: #1967D2;\n",
              "      height: 32px;\n",
              "      padding: 0 0 0 0;\n",
              "      width: 32px;\n",
              "    }\n",
              "\n",
              "    .colab-df-convert:hover {\n",
              "      background-color: #E2EBFA;\n",
              "      box-shadow: 0px 1px 2px rgba(60, 64, 67, 0.3), 0px 1px 3px 1px rgba(60, 64, 67, 0.15);\n",
              "      fill: #174EA6;\n",
              "    }\n",
              "\n",
              "    [theme=dark] .colab-df-convert {\n",
              "      background-color: #3B4455;\n",
              "      fill: #D2E3FC;\n",
              "    }\n",
              "\n",
              "    [theme=dark] .colab-df-convert:hover {\n",
              "      background-color: #434B5C;\n",
              "      box-shadow: 0px 1px 3px 1px rgba(0, 0, 0, 0.15);\n",
              "      filter: drop-shadow(0px 1px 2px rgba(0, 0, 0, 0.3));\n",
              "      fill: #FFFFFF;\n",
              "    }\n",
              "  </style>\n",
              "\n",
              "      <script>\n",
              "        const buttonEl =\n",
              "          document.querySelector('#df-32861fd0-c191-4bf5-a836-56c9cab50708 button.colab-df-convert');\n",
              "        buttonEl.style.display =\n",
              "          google.colab.kernel.accessAllowed ? 'block' : 'none';\n",
              "\n",
              "        async function convertToInteractive(key) {\n",
              "          const element = document.querySelector('#df-32861fd0-c191-4bf5-a836-56c9cab50708');\n",
              "          const dataTable =\n",
              "            await google.colab.kernel.invokeFunction('convertToInteractive',\n",
              "                                                     [key], {});\n",
              "          if (!dataTable) return;\n",
              "\n",
              "          const docLinkHtml = 'Like what you see? Visit the ' +\n",
              "            '<a target=\"_blank\" href=https://colab.research.google.com/notebooks/data_table.ipynb>data table notebook</a>'\n",
              "            + ' to learn more about interactive tables.';\n",
              "          element.innerHTML = '';\n",
              "          dataTable['output_type'] = 'display_data';\n",
              "          await google.colab.output.renderOutput(dataTable, element);\n",
              "          const docLink = document.createElement('div');\n",
              "          docLink.innerHTML = docLinkHtml;\n",
              "          element.appendChild(docLink);\n",
              "        }\n",
              "      </script>\n",
              "    </div>\n",
              "  </div>\n",
              "  "
            ]
          },
          "metadata": {},
          "execution_count": 2
        }
      ]
    },
    {
      "cell_type": "code",
      "source": [
        "# Scaling the Data\n",
        "scaler = StandardScaler()\n",
        "X_scaled = scaler.fit_transform(df)\n",
        "\n",
        "# Normalizing the Data\n",
        "X_normalized = normalize(X_scaled)\n",
        "\n",
        "print(X_normalized)"
      ],
      "metadata": {
        "colab": {
          "base_uri": "https://localhost:8080/"
        },
        "id": "96qBeGwSUTTB",
        "outputId": "a915110b-b107-41ea-e2af-36ba5daeb928"
      },
      "execution_count": null,
      "outputs": [
        {
          "output_type": "stream",
          "name": "stdout",
          "text": [
            "[[ 0.33073774  0.94372271]\n",
            " [-0.34134038 -0.93993975]\n",
            " [-0.99897858  0.04518635]\n",
            " [-0.18762208 -0.98224129]\n",
            " [-0.54781882 -0.836597  ]\n",
            " [-0.39355472 -0.91930119]\n",
            " [-0.39805732  0.91736055]\n",
            " [-0.15649257  0.98767914]\n",
            " [-0.64120777  0.76736731]\n",
            " [-0.0805241   0.99675266]\n",
            " [-0.50139617 -0.86521782]\n",
            " [-0.48596699 -0.87397716]\n",
            " [-0.38776351 -0.92175889]\n",
            " [-0.97515079  0.22154216]\n",
            " [-0.3994464  -0.91675655]\n",
            " [-0.62174706 -0.7832181 ]\n",
            " [-0.38878501 -0.92132851]\n",
            " [-0.55416655 -0.83240581]\n",
            " [ 0.88920753 -0.45750406]\n",
            " [-0.38007007 -0.9249577 ]\n",
            " [ 0.26635169  0.96387591]\n",
            " [ 0.97217254 -0.234266  ]\n",
            " [-0.07867389 -0.99690041]\n",
            " [-0.9999276  -0.01203293]\n",
            " [ 0.84612622  0.53298256]\n",
            " [-0.42387767 -0.90571945]\n",
            " [-0.98685737  0.1615937 ]\n",
            " [-0.30898492 -0.95106694]]\n"
          ]
        }
      ]
    },
    {
      "cell_type": "code",
      "source": [
        "# Proses Clustering dengan Spectral Clustering\n",
        "spectral_model_rbf = SpectralClustering(n_clusters = 3, affinity ='rbf',eigen_solver='arpack',)\n",
        "labels_rbf = spectral_model_rbf.fit_predict(X_normalized)\n",
        "print(labels_rbf)"
      ],
      "metadata": {
        "colab": {
          "base_uri": "https://localhost:8080/"
        },
        "id": "ADIJNhrEWyjQ",
        "outputId": "d2acf979-cc19-4ef0-fb8e-6e3b8b279f16"
      },
      "execution_count": null,
      "outputs": [
        {
          "output_type": "stream",
          "name": "stdout",
          "text": [
            "[1 0 0 0 0 0 1 1 1 1 0 0 0 0 0 0 0 0 2 0 1 2 0 0 2 0 0 0]\n"
          ]
        }
      ]
    },
    {
      "cell_type": "code",
      "source": [
        "# Hasil Clustering\n",
        "data['Cluster'] = spectral_model_rbf.labels_\n",
        "data"
      ],
      "metadata": {
        "colab": {
          "base_uri": "https://localhost:8080/",
          "height": 927
        },
        "id": "QjD5riKCAdIk",
        "outputId": "89039239-f3b1-4c83-b95b-13b0aa7ea0d9"
      },
      "execution_count": null,
      "outputs": [
        {
          "output_type": "execute_result",
          "data": {
            "text/plain": [
              "               Nama Kota/Kabupaten  Terkonfirmasi  Meninggal  Cluster\n",
              "0                     KAB. BANDUNG            434        634        1\n",
              "1               KAB. BANDUNG BARAT            188        307        0\n",
              "2                      KAB. BEKASI            316        571        0\n",
              "3                       KAB. BOGOR            242        206        0\n",
              "4                      KAB. CIAMIS             57        328        0\n",
              "5                     KAB. CIANJUR             81        227        0\n",
              "6                     KAB. CIREBON             27        967        1\n",
              "7                       KAB. GARUT            150       1286        1\n",
              "8                   KAB. INDRAMAYU             46        765        1\n",
              "9                    KAB. KARAWANG            138       2046        1\n",
              "10                   KAB. KUNINGAN             49        290        0\n",
              "11                 KAB. MAJALENGKA             36        267        0\n",
              "12                KAB. PANGANDARAN             24        156        0\n",
              "13                 KAB. PURWAKARTA             33        608        0\n",
              "14                     KAB. SUBANG            141        299        0\n",
              "15                   KAB. SUKABUMI             35        357        0\n",
              "16                   KAB. SUMEDANG             44        180        0\n",
              "17                KAB. TASIKMALAYA             39        319        0\n",
              "18                    KOTA BANDUNG            859        453        2\n",
              "19                     KOTA BANJAR             23        145        0\n",
              "20                     KOTA BEKASI            669       1059        1\n",
              "21                      KOTA BOGOR            538        552        2\n",
              "22                     KOTA CIMAHI            326        200        0\n",
              "23                    KOTA CIREBON            133        568        0\n",
              "24                      KOTA DEPOK           5995       2263        2\n",
              "25                   KOTA SUKABUMI            114        290        0\n",
              "26                KOTA TASIKMALAYA             87        593        0\n",
              "27  KOTA/KAB BELUM TERIDENTIFIKASI              7          9        0"
            ],
            "text/html": [
              "\n",
              "  <div id=\"df-b36f738d-53ba-4ce0-a589-b08fa15ceaed\">\n",
              "    <div class=\"colab-df-container\">\n",
              "      <div>\n",
              "<style scoped>\n",
              "    .dataframe tbody tr th:only-of-type {\n",
              "        vertical-align: middle;\n",
              "    }\n",
              "\n",
              "    .dataframe tbody tr th {\n",
              "        vertical-align: top;\n",
              "    }\n",
              "\n",
              "    .dataframe thead th {\n",
              "        text-align: right;\n",
              "    }\n",
              "</style>\n",
              "<table border=\"1\" class=\"dataframe\">\n",
              "  <thead>\n",
              "    <tr style=\"text-align: right;\">\n",
              "      <th></th>\n",
              "      <th>Nama Kota/Kabupaten</th>\n",
              "      <th>Terkonfirmasi</th>\n",
              "      <th>Meninggal</th>\n",
              "      <th>Cluster</th>\n",
              "    </tr>\n",
              "  </thead>\n",
              "  <tbody>\n",
              "    <tr>\n",
              "      <th>0</th>\n",
              "      <td>KAB. BANDUNG</td>\n",
              "      <td>434</td>\n",
              "      <td>634</td>\n",
              "      <td>1</td>\n",
              "    </tr>\n",
              "    <tr>\n",
              "      <th>1</th>\n",
              "      <td>KAB. BANDUNG BARAT</td>\n",
              "      <td>188</td>\n",
              "      <td>307</td>\n",
              "      <td>0</td>\n",
              "    </tr>\n",
              "    <tr>\n",
              "      <th>2</th>\n",
              "      <td>KAB. BEKASI</td>\n",
              "      <td>316</td>\n",
              "      <td>571</td>\n",
              "      <td>0</td>\n",
              "    </tr>\n",
              "    <tr>\n",
              "      <th>3</th>\n",
              "      <td>KAB. BOGOR</td>\n",
              "      <td>242</td>\n",
              "      <td>206</td>\n",
              "      <td>0</td>\n",
              "    </tr>\n",
              "    <tr>\n",
              "      <th>4</th>\n",
              "      <td>KAB. CIAMIS</td>\n",
              "      <td>57</td>\n",
              "      <td>328</td>\n",
              "      <td>0</td>\n",
              "    </tr>\n",
              "    <tr>\n",
              "      <th>5</th>\n",
              "      <td>KAB. CIANJUR</td>\n",
              "      <td>81</td>\n",
              "      <td>227</td>\n",
              "      <td>0</td>\n",
              "    </tr>\n",
              "    <tr>\n",
              "      <th>6</th>\n",
              "      <td>KAB. CIREBON</td>\n",
              "      <td>27</td>\n",
              "      <td>967</td>\n",
              "      <td>1</td>\n",
              "    </tr>\n",
              "    <tr>\n",
              "      <th>7</th>\n",
              "      <td>KAB. GARUT</td>\n",
              "      <td>150</td>\n",
              "      <td>1286</td>\n",
              "      <td>1</td>\n",
              "    </tr>\n",
              "    <tr>\n",
              "      <th>8</th>\n",
              "      <td>KAB. INDRAMAYU</td>\n",
              "      <td>46</td>\n",
              "      <td>765</td>\n",
              "      <td>1</td>\n",
              "    </tr>\n",
              "    <tr>\n",
              "      <th>9</th>\n",
              "      <td>KAB. KARAWANG</td>\n",
              "      <td>138</td>\n",
              "      <td>2046</td>\n",
              "      <td>1</td>\n",
              "    </tr>\n",
              "    <tr>\n",
              "      <th>10</th>\n",
              "      <td>KAB. KUNINGAN</td>\n",
              "      <td>49</td>\n",
              "      <td>290</td>\n",
              "      <td>0</td>\n",
              "    </tr>\n",
              "    <tr>\n",
              "      <th>11</th>\n",
              "      <td>KAB. MAJALENGKA</td>\n",
              "      <td>36</td>\n",
              "      <td>267</td>\n",
              "      <td>0</td>\n",
              "    </tr>\n",
              "    <tr>\n",
              "      <th>12</th>\n",
              "      <td>KAB. PANGANDARAN</td>\n",
              "      <td>24</td>\n",
              "      <td>156</td>\n",
              "      <td>0</td>\n",
              "    </tr>\n",
              "    <tr>\n",
              "      <th>13</th>\n",
              "      <td>KAB. PURWAKARTA</td>\n",
              "      <td>33</td>\n",
              "      <td>608</td>\n",
              "      <td>0</td>\n",
              "    </tr>\n",
              "    <tr>\n",
              "      <th>14</th>\n",
              "      <td>KAB. SUBANG</td>\n",
              "      <td>141</td>\n",
              "      <td>299</td>\n",
              "      <td>0</td>\n",
              "    </tr>\n",
              "    <tr>\n",
              "      <th>15</th>\n",
              "      <td>KAB. SUKABUMI</td>\n",
              "      <td>35</td>\n",
              "      <td>357</td>\n",
              "      <td>0</td>\n",
              "    </tr>\n",
              "    <tr>\n",
              "      <th>16</th>\n",
              "      <td>KAB. SUMEDANG</td>\n",
              "      <td>44</td>\n",
              "      <td>180</td>\n",
              "      <td>0</td>\n",
              "    </tr>\n",
              "    <tr>\n",
              "      <th>17</th>\n",
              "      <td>KAB. TASIKMALAYA</td>\n",
              "      <td>39</td>\n",
              "      <td>319</td>\n",
              "      <td>0</td>\n",
              "    </tr>\n",
              "    <tr>\n",
              "      <th>18</th>\n",
              "      <td>KOTA BANDUNG</td>\n",
              "      <td>859</td>\n",
              "      <td>453</td>\n",
              "      <td>2</td>\n",
              "    </tr>\n",
              "    <tr>\n",
              "      <th>19</th>\n",
              "      <td>KOTA BANJAR</td>\n",
              "      <td>23</td>\n",
              "      <td>145</td>\n",
              "      <td>0</td>\n",
              "    </tr>\n",
              "    <tr>\n",
              "      <th>20</th>\n",
              "      <td>KOTA BEKASI</td>\n",
              "      <td>669</td>\n",
              "      <td>1059</td>\n",
              "      <td>1</td>\n",
              "    </tr>\n",
              "    <tr>\n",
              "      <th>21</th>\n",
              "      <td>KOTA BOGOR</td>\n",
              "      <td>538</td>\n",
              "      <td>552</td>\n",
              "      <td>2</td>\n",
              "    </tr>\n",
              "    <tr>\n",
              "      <th>22</th>\n",
              "      <td>KOTA CIMAHI</td>\n",
              "      <td>326</td>\n",
              "      <td>200</td>\n",
              "      <td>0</td>\n",
              "    </tr>\n",
              "    <tr>\n",
              "      <th>23</th>\n",
              "      <td>KOTA CIREBON</td>\n",
              "      <td>133</td>\n",
              "      <td>568</td>\n",
              "      <td>0</td>\n",
              "    </tr>\n",
              "    <tr>\n",
              "      <th>24</th>\n",
              "      <td>KOTA DEPOK</td>\n",
              "      <td>5995</td>\n",
              "      <td>2263</td>\n",
              "      <td>2</td>\n",
              "    </tr>\n",
              "    <tr>\n",
              "      <th>25</th>\n",
              "      <td>KOTA SUKABUMI</td>\n",
              "      <td>114</td>\n",
              "      <td>290</td>\n",
              "      <td>0</td>\n",
              "    </tr>\n",
              "    <tr>\n",
              "      <th>26</th>\n",
              "      <td>KOTA TASIKMALAYA</td>\n",
              "      <td>87</td>\n",
              "      <td>593</td>\n",
              "      <td>0</td>\n",
              "    </tr>\n",
              "    <tr>\n",
              "      <th>27</th>\n",
              "      <td>KOTA/KAB BELUM TERIDENTIFIKASI</td>\n",
              "      <td>7</td>\n",
              "      <td>9</td>\n",
              "      <td>0</td>\n",
              "    </tr>\n",
              "  </tbody>\n",
              "</table>\n",
              "</div>\n",
              "      <button class=\"colab-df-convert\" onclick=\"convertToInteractive('df-b36f738d-53ba-4ce0-a589-b08fa15ceaed')\"\n",
              "              title=\"Convert this dataframe to an interactive table.\"\n",
              "              style=\"display:none;\">\n",
              "        \n",
              "  <svg xmlns=\"http://www.w3.org/2000/svg\" height=\"24px\"viewBox=\"0 0 24 24\"\n",
              "       width=\"24px\">\n",
              "    <path d=\"M0 0h24v24H0V0z\" fill=\"none\"/>\n",
              "    <path d=\"M18.56 5.44l.94 2.06.94-2.06 2.06-.94-2.06-.94-.94-2.06-.94 2.06-2.06.94zm-11 1L8.5 8.5l.94-2.06 2.06-.94-2.06-.94L8.5 2.5l-.94 2.06-2.06.94zm10 10l.94 2.06.94-2.06 2.06-.94-2.06-.94-.94-2.06-.94 2.06-2.06.94z\"/><path d=\"M17.41 7.96l-1.37-1.37c-.4-.4-.92-.59-1.43-.59-.52 0-1.04.2-1.43.59L10.3 9.45l-7.72 7.72c-.78.78-.78 2.05 0 2.83L4 21.41c.39.39.9.59 1.41.59.51 0 1.02-.2 1.41-.59l7.78-7.78 2.81-2.81c.8-.78.8-2.07 0-2.86zM5.41 20L4 18.59l7.72-7.72 1.47 1.35L5.41 20z\"/>\n",
              "  </svg>\n",
              "      </button>\n",
              "      \n",
              "  <style>\n",
              "    .colab-df-container {\n",
              "      display:flex;\n",
              "      flex-wrap:wrap;\n",
              "      gap: 12px;\n",
              "    }\n",
              "\n",
              "    .colab-df-convert {\n",
              "      background-color: #E8F0FE;\n",
              "      border: none;\n",
              "      border-radius: 50%;\n",
              "      cursor: pointer;\n",
              "      display: none;\n",
              "      fill: #1967D2;\n",
              "      height: 32px;\n",
              "      padding: 0 0 0 0;\n",
              "      width: 32px;\n",
              "    }\n",
              "\n",
              "    .colab-df-convert:hover {\n",
              "      background-color: #E2EBFA;\n",
              "      box-shadow: 0px 1px 2px rgba(60, 64, 67, 0.3), 0px 1px 3px 1px rgba(60, 64, 67, 0.15);\n",
              "      fill: #174EA6;\n",
              "    }\n",
              "\n",
              "    [theme=dark] .colab-df-convert {\n",
              "      background-color: #3B4455;\n",
              "      fill: #D2E3FC;\n",
              "    }\n",
              "\n",
              "    [theme=dark] .colab-df-convert:hover {\n",
              "      background-color: #434B5C;\n",
              "      box-shadow: 0px 1px 3px 1px rgba(0, 0, 0, 0.15);\n",
              "      filter: drop-shadow(0px 1px 2px rgba(0, 0, 0, 0.3));\n",
              "      fill: #FFFFFF;\n",
              "    }\n",
              "  </style>\n",
              "\n",
              "      <script>\n",
              "        const buttonEl =\n",
              "          document.querySelector('#df-b36f738d-53ba-4ce0-a589-b08fa15ceaed button.colab-df-convert');\n",
              "        buttonEl.style.display =\n",
              "          google.colab.kernel.accessAllowed ? 'block' : 'none';\n",
              "\n",
              "        async function convertToInteractive(key) {\n",
              "          const element = document.querySelector('#df-b36f738d-53ba-4ce0-a589-b08fa15ceaed');\n",
              "          const dataTable =\n",
              "            await google.colab.kernel.invokeFunction('convertToInteractive',\n",
              "                                                     [key], {});\n",
              "          if (!dataTable) return;\n",
              "\n",
              "          const docLinkHtml = 'Like what you see? Visit the ' +\n",
              "            '<a target=\"_blank\" href=https://colab.research.google.com/notebooks/data_table.ipynb>data table notebook</a>'\n",
              "            + ' to learn more about interactive tables.';\n",
              "          element.innerHTML = '';\n",
              "          dataTable['output_type'] = 'display_data';\n",
              "          await google.colab.output.renderOutput(dataTable, element);\n",
              "          const docLink = document.createElement('div');\n",
              "          docLink.innerHTML = docLinkHtml;\n",
              "          element.appendChild(docLink);\n",
              "        }\n",
              "      </script>\n",
              "    </div>\n",
              "  </div>\n",
              "  "
            ]
          },
          "metadata": {},
          "execution_count": 5
        }
      ]
    },
    {
      "cell_type": "code",
      "source": [
        "! pip install openpyxl"
      ],
      "metadata": {
        "colab": {
          "base_uri": "https://localhost:8080/"
        },
        "id": "U-aLdPB8B7h6",
        "outputId": "5712776a-e549-48ac-868f-5ed58148e046"
      },
      "execution_count": null,
      "outputs": [
        {
          "output_type": "stream",
          "name": "stdout",
          "text": [
            "Looking in indexes: https://pypi.org/simple, https://us-python.pkg.dev/colab-wheels/public/simple/\n",
            "Requirement already satisfied: openpyxl in /usr/local/lib/python3.7/dist-packages (3.0.10)\n",
            "Requirement already satisfied: et-xmlfile in /usr/local/lib/python3.7/dist-packages (from openpyxl) (1.1.0)\n"
          ]
        }
      ]
    },
    {
      "cell_type": "code",
      "source": [
        "data.to_excel(\"Spectral_cluster.xlsx\")"
      ],
      "metadata": {
        "id": "PJxfl1KsCOou"
      },
      "execution_count": null,
      "outputs": []
    },
    {
      "cell_type": "markdown",
      "source": [
        "### Visualisasi dari Model Spectral Clustering"
      ],
      "metadata": {
        "id": "TTgbfe4qH87r"
      }
    },
    {
      "cell_type": "code",
      "source": [
        "# Visualisasi\n",
        "plt.figure (figsize=(10, 8))\n",
        "plt.scatter (X_normalized[labels_rbf == 0, 0], X_normalized[labels_rbf == 0, 1], s = 100, c = 'red', label = 'C1')\n",
        "plt.scatter (X_normalized[labels_rbf == 1, 0], X_normalized[labels_rbf == 1, 1], s = 100, c = 'blue', label = 'C2')\n",
        "plt.scatter (X_normalized[labels_rbf == 2, 0], X_normalized[labels_rbf == 2, 1], s = 100, c = 'green', label = 'C3')\n",
        "plt.savefig(\"plot_spectral_clutsering.png\")\n",
        "plt.title(\"Grafik Spectral Clustering COVID Jawa Barat\")\n",
        "plt.legend(loc=\"lower right\");"
      ],
      "metadata": {
        "colab": {
          "base_uri": "https://localhost:8080/",
          "height": 499
        },
        "id": "W0glfA-1W_PC",
        "outputId": "9fe2b430-d5af-4741-bdcc-428f4cea4bd7"
      },
      "execution_count": null,
      "outputs": [
        {
          "output_type": "display_data",
          "data": {
            "text/plain": [
              "<Figure size 720x576 with 1 Axes>"
            ],
            "image/png": "[encoded data removed]"
          },
          "metadata": {
            "needs_background": "light"
          }
        }
      ]
    },
    {
      "cell_type": "markdown",
      "source": [
        "### Silhouette Score"
      ],
      "metadata": {
        "id": "I7KPs7vqIEKK"
      }
    },
    {
      "cell_type": "code",
      "source": [
        "# Import Library Silhoutte Score\n",
        "from sklearn.metrics import silhouette_score\n",
        "\n",
        "silhouette_avg = silhouette_score(X_normalized, labels_rbf)\n",
        "print(silhouette_avg)"
      ],
      "metadata": {
        "colab": {
          "base_uri": "https://localhost:8080/"
        },
        "id": "wV-ZYJM6daWE",
        "outputId": "78013bac-48ec-49db-d07c-ac2c91334f1b"
      },
      "execution_count": null,
      "outputs": [
        {
          "output_type": "stream",
          "name": "stdout",
          "text": [
            "0.6201633471227234\n"
          ]
        }
      ]
    },
    {
      "cell_type": "code",
      "source": [
        "# Proses Visualisasi Silhouette Score\n",
        "# sw (Silhouette Widht)\n",
        "sw = []\n",
        "\n",
        "for i in range(2, 11):\n",
        "    kMedoids = SpectralClustering(n_clusters = i, random_state = 42)\n",
        "    kMedoids.fit(X_normalized)\n",
        "    y_kmed = kMedoids.fit_predict(X_normalized)\n",
        "    silhouette_avg = silhouette_score(X_normalized, labels_rbf)\n",
        "    sw.append(silhouette_avg)"
      ],
      "metadata": {
        "id": "g8l3qWJbfzvD"
      },
      "execution_count": null,
      "outputs": []
    },
    {
      "cell_type": "code",
      "source": [
        "# Visualisasi nilai Silhouette Score\n",
        "plt.plot(range(2, 11), sw)\n",
        "plt.title('Silhoute Score')\n",
        "plt.xlabel('Number of clusters')\n",
        "plt.ylabel('SW')      #within cluster sum of squares\n",
        "plt.show();"
      ],
      "metadata": {
        "colab": {
          "base_uri": "https://localhost:8080/",
          "height": 295
        },
        "id": "3FP5c2cGCocQ",
        "outputId": "e08e61fb-93f7-42f0-d0e4-b2c628f8a9c6"
      },
      "execution_count": null,
      "outputs": [
        {
          "output_type": "display_data",
          "data": {
            "text/plain": [
              "<Figure size 432x288 with 1 Axes>"
            ],
            "image/png": "[encoded data removed]"
          },
          "metadata": {
            "needs_background": "light"
          }
        }
      ]
    }
  ]
}